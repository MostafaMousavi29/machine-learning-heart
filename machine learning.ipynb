{
 "cells": [
  {
   "cell_type": "markdown",
   "metadata": {},
   "source": [
    "ما داده هایی داریم به برای بیماران قلبی و عروقی هستند \n",
    "و یا بر اساس ویژگی هایی که دارند طبقه بندی نشدند \n",
    "ما قرار است با توجه به این ویژگی ها پیش بینی کنیم که آیا بیمار مبتلا به این بیماری است یا خیر \n",
    "از الگوریتم لوجستیک رگریشن استفاده میشود \n"
   ]
  },
  {
   "cell_type": "markdown",
   "metadata": {},
   "source": [
    "در ابتدا کتابخانه های مورد نظر را وارد میکنیم \n",
    "کتابخانه هایی نظیر نامپای برای محاسبات عددی و پاندا برای محاسبات ریاضی و پیلوت برای رسم شکل "
   ]
  },
  {
   "cell_type": "code",
   "execution_count": 1,
   "metadata": {},
   "outputs": [],
   "source": [
    "import numpy as np\n",
    "import pandas as pd\n",
    "import matplotlib.pyplot as plt\n",
    "import seaborn as sns\n",
    "from sklearn.linear_model import LogisticRegression\n",
    "from sklearn.model_selection import train_test_split"
   ]
  },
  {
   "cell_type": "markdown",
   "metadata": {},
   "source": [
    "دیتا مورد نظر را با استفاده از فرمت csv وارد میکنیم "
   ]
  },
  {
   "cell_type": "code",
   "execution_count": 2,
   "metadata": {},
   "outputs": [],
   "source": [
    "df=pd.read_csv('C:\\heart.csv')"
   ]
  },
  {
   "cell_type": "markdown",
   "metadata": {},
   "source": [
    "برای نشان دادن فایل و پنج ستون به صورت (top n) از دستور زیر استفاده میکنیم  "
   ]
  },
  {
   "cell_type": "code",
   "execution_count": 3,
   "metadata": {},
   "outputs": [
    {
     "data": {
      "text/html": [
       "<div>\n",
       "<style scoped>\n",
       "    .dataframe tbody tr th:only-of-type {\n",
       "        vertical-align: middle;\n",
       "    }\n",
       "\n",
       "    .dataframe tbody tr th {\n",
       "        vertical-align: top;\n",
       "    }\n",
       "\n",
       "    .dataframe thead th {\n",
       "        text-align: right;\n",
       "    }\n",
       "</style>\n",
       "<table border=\"1\" class=\"dataframe\">\n",
       "  <thead>\n",
       "    <tr style=\"text-align: right;\">\n",
       "      <th></th>\n",
       "      <th>age</th>\n",
       "      <th>sex</th>\n",
       "      <th>cp</th>\n",
       "      <th>trestbps</th>\n",
       "      <th>chol</th>\n",
       "      <th>fbs</th>\n",
       "      <th>restecg</th>\n",
       "      <th>thalach</th>\n",
       "      <th>exang</th>\n",
       "      <th>oldpeak</th>\n",
       "      <th>slope</th>\n",
       "      <th>ca</th>\n",
       "      <th>thal</th>\n",
       "      <th>target</th>\n",
       "    </tr>\n",
       "  </thead>\n",
       "  <tbody>\n",
       "    <tr>\n",
       "      <th>0</th>\n",
       "      <td>63</td>\n",
       "      <td>1</td>\n",
       "      <td>3</td>\n",
       "      <td>145</td>\n",
       "      <td>233</td>\n",
       "      <td>1</td>\n",
       "      <td>0</td>\n",
       "      <td>150</td>\n",
       "      <td>0</td>\n",
       "      <td>2.3</td>\n",
       "      <td>0</td>\n",
       "      <td>0</td>\n",
       "      <td>1</td>\n",
       "      <td>1</td>\n",
       "    </tr>\n",
       "    <tr>\n",
       "      <th>1</th>\n",
       "      <td>37</td>\n",
       "      <td>1</td>\n",
       "      <td>2</td>\n",
       "      <td>130</td>\n",
       "      <td>250</td>\n",
       "      <td>0</td>\n",
       "      <td>1</td>\n",
       "      <td>187</td>\n",
       "      <td>0</td>\n",
       "      <td>3.5</td>\n",
       "      <td>0</td>\n",
       "      <td>0</td>\n",
       "      <td>2</td>\n",
       "      <td>1</td>\n",
       "    </tr>\n",
       "    <tr>\n",
       "      <th>2</th>\n",
       "      <td>41</td>\n",
       "      <td>0</td>\n",
       "      <td>1</td>\n",
       "      <td>130</td>\n",
       "      <td>204</td>\n",
       "      <td>0</td>\n",
       "      <td>0</td>\n",
       "      <td>172</td>\n",
       "      <td>0</td>\n",
       "      <td>1.4</td>\n",
       "      <td>2</td>\n",
       "      <td>0</td>\n",
       "      <td>2</td>\n",
       "      <td>1</td>\n",
       "    </tr>\n",
       "    <tr>\n",
       "      <th>3</th>\n",
       "      <td>56</td>\n",
       "      <td>1</td>\n",
       "      <td>1</td>\n",
       "      <td>120</td>\n",
       "      <td>236</td>\n",
       "      <td>0</td>\n",
       "      <td>1</td>\n",
       "      <td>178</td>\n",
       "      <td>0</td>\n",
       "      <td>0.8</td>\n",
       "      <td>2</td>\n",
       "      <td>0</td>\n",
       "      <td>2</td>\n",
       "      <td>1</td>\n",
       "    </tr>\n",
       "    <tr>\n",
       "      <th>4</th>\n",
       "      <td>57</td>\n",
       "      <td>0</td>\n",
       "      <td>0</td>\n",
       "      <td>120</td>\n",
       "      <td>354</td>\n",
       "      <td>0</td>\n",
       "      <td>1</td>\n",
       "      <td>163</td>\n",
       "      <td>1</td>\n",
       "      <td>0.6</td>\n",
       "      <td>2</td>\n",
       "      <td>0</td>\n",
       "      <td>2</td>\n",
       "      <td>1</td>\n",
       "    </tr>\n",
       "  </tbody>\n",
       "</table>\n",
       "</div>"
      ],
      "text/plain": [
       "   age  sex  cp  trestbps  chol  fbs  restecg  thalach  exang  oldpeak  slope  \\\n",
       "0   63    1   3       145   233    1        0      150      0      2.3      0   \n",
       "1   37    1   2       130   250    0        1      187      0      3.5      0   \n",
       "2   41    0   1       130   204    0        0      172      0      1.4      2   \n",
       "3   56    1   1       120   236    0        1      178      0      0.8      2   \n",
       "4   57    0   0       120   354    0        1      163      1      0.6      2   \n",
       "\n",
       "   ca  thal  target  \n",
       "0   0     1       1  \n",
       "1   0     2       1  \n",
       "2   0     2       1  \n",
       "3   0     2       1  \n",
       "4   0     2       1  "
      ]
     },
     "execution_count": 3,
     "metadata": {},
     "output_type": "execute_result"
    }
   ],
   "source": [
    "df.head()"
   ]
  },
  {
   "cell_type": "markdown",
   "metadata": {},
   "source": [
    "تمام جدول را به صورت زیر چاپ میکنیم "
   ]
  },
  {
   "cell_type": "code",
   "execution_count": 4,
   "metadata": {},
   "outputs": [
    {
     "name": "stdout",
     "output_type": "stream",
     "text": [
      "     age  sex  cp  trestbps  chol  fbs  restecg  thalach  exang  oldpeak  \\\n",
      "0     63    1   3       145   233    1        0      150      0      2.3   \n",
      "1     37    1   2       130   250    0        1      187      0      3.5   \n",
      "2     41    0   1       130   204    0        0      172      0      1.4   \n",
      "3     56    1   1       120   236    0        1      178      0      0.8   \n",
      "4     57    0   0       120   354    0        1      163      1      0.6   \n",
      "5     57    1   0       140   192    0        1      148      0      0.4   \n",
      "6     56    0   1       140   294    0        0      153      0      1.3   \n",
      "7     44    1   1       120   263    0        1      173      0      0.0   \n",
      "8     52    1   2       172   199    1        1      162      0      0.5   \n",
      "9     57    1   2       150   168    0        1      174      0      1.6   \n",
      "10    54    1   0       140   239    0        1      160      0      1.2   \n",
      "11    48    0   2       130   275    0        1      139      0      0.2   \n",
      "12    49    1   1       130   266    0        1      171      0      0.6   \n",
      "13    64    1   3       110   211    0        0      144      1      1.8   \n",
      "14    58    0   3       150   283    1        0      162      0      1.0   \n",
      "15    50    0   2       120   219    0        1      158      0      1.6   \n",
      "16    58    0   2       120   340    0        1      172      0      0.0   \n",
      "17    66    0   3       150   226    0        1      114      0      2.6   \n",
      "18    43    1   0       150   247    0        1      171      0      1.5   \n",
      "19    69    0   3       140   239    0        1      151      0      1.8   \n",
      "20    59    1   0       135   234    0        1      161      0      0.5   \n",
      "21    44    1   2       130   233    0        1      179      1      0.4   \n",
      "22    42    1   0       140   226    0        1      178      0      0.0   \n",
      "23    61    1   2       150   243    1        1      137      1      1.0   \n",
      "24    40    1   3       140   199    0        1      178      1      1.4   \n",
      "25    71    0   1       160   302    0        1      162      0      0.4   \n",
      "26    59    1   2       150   212    1        1      157      0      1.6   \n",
      "27    51    1   2       110   175    0        1      123      0      0.6   \n",
      "28    65    0   2       140   417    1        0      157      0      0.8   \n",
      "29    53    1   2       130   197    1        0      152      0      1.2   \n",
      "..   ...  ...  ..       ...   ...  ...      ...      ...    ...      ...   \n",
      "273   58    1   0       100   234    0        1      156      0      0.1   \n",
      "274   47    1   0       110   275    0        0      118      1      1.0   \n",
      "275   52    1   0       125   212    0        1      168      0      1.0   \n",
      "276   58    1   0       146   218    0        1      105      0      2.0   \n",
      "277   57    1   1       124   261    0        1      141      0      0.3   \n",
      "278   58    0   1       136   319    1        0      152      0      0.0   \n",
      "279   61    1   0       138   166    0        0      125      1      3.6   \n",
      "280   42    1   0       136   315    0        1      125      1      1.8   \n",
      "281   52    1   0       128   204    1        1      156      1      1.0   \n",
      "282   59    1   2       126   218    1        1      134      0      2.2   \n",
      "283   40    1   0       152   223    0        1      181      0      0.0   \n",
      "284   61    1   0       140   207    0        0      138      1      1.9   \n",
      "285   46    1   0       140   311    0        1      120      1      1.8   \n",
      "286   59    1   3       134   204    0        1      162      0      0.8   \n",
      "287   57    1   1       154   232    0        0      164      0      0.0   \n",
      "288   57    1   0       110   335    0        1      143      1      3.0   \n",
      "289   55    0   0       128   205    0        2      130      1      2.0   \n",
      "290   61    1   0       148   203    0        1      161      0      0.0   \n",
      "291   58    1   0       114   318    0        2      140      0      4.4   \n",
      "292   58    0   0       170   225    1        0      146      1      2.8   \n",
      "293   67    1   2       152   212    0        0      150      0      0.8   \n",
      "294   44    1   0       120   169    0        1      144      1      2.8   \n",
      "295   63    1   0       140   187    0        0      144      1      4.0   \n",
      "296   63    0   0       124   197    0        1      136      1      0.0   \n",
      "297   59    1   0       164   176    1        0       90      0      1.0   \n",
      "298   57    0   0       140   241    0        1      123      1      0.2   \n",
      "299   45    1   3       110   264    0        1      132      0      1.2   \n",
      "300   68    1   0       144   193    1        1      141      0      3.4   \n",
      "301   57    1   0       130   131    0        1      115      1      1.2   \n",
      "302   57    0   1       130   236    0        0      174      0      0.0   \n",
      "\n",
      "     slope  ca  thal  target  \n",
      "0        0   0     1       1  \n",
      "1        0   0     2       1  \n",
      "2        2   0     2       1  \n",
      "3        2   0     2       1  \n",
      "4        2   0     2       1  \n",
      "5        1   0     1       1  \n",
      "6        1   0     2       1  \n",
      "7        2   0     3       1  \n",
      "8        2   0     3       1  \n",
      "9        2   0     2       1  \n",
      "10       2   0     2       1  \n",
      "11       2   0     2       1  \n",
      "12       2   0     2       1  \n",
      "13       1   0     2       1  \n",
      "14       2   0     2       1  \n",
      "15       1   0     2       1  \n",
      "16       2   0     2       1  \n",
      "17       0   0     2       1  \n",
      "18       2   0     2       1  \n",
      "19       2   2     2       1  \n",
      "20       1   0     3       1  \n",
      "21       2   0     2       1  \n",
      "22       2   0     2       1  \n",
      "23       1   0     2       1  \n",
      "24       2   0     3       1  \n",
      "25       2   2     2       1  \n",
      "26       2   0     2       1  \n",
      "27       2   0     2       1  \n",
      "28       2   1     2       1  \n",
      "29       0   0     2       1  \n",
      "..     ...  ..   ...     ...  \n",
      "273      2   1     3       0  \n",
      "274      1   1     2       0  \n",
      "275      2   2     3       0  \n",
      "276      1   1     3       0  \n",
      "277      2   0     3       0  \n",
      "278      2   2     2       0  \n",
      "279      1   1     2       0  \n",
      "280      1   0     1       0  \n",
      "281      1   0     0       0  \n",
      "282      1   1     1       0  \n",
      "283      2   0     3       0  \n",
      "284      2   1     3       0  \n",
      "285      1   2     3       0  \n",
      "286      2   2     2       0  \n",
      "287      2   1     2       0  \n",
      "288      1   1     3       0  \n",
      "289      1   1     3       0  \n",
      "290      2   1     3       0  \n",
      "291      0   3     1       0  \n",
      "292      1   2     1       0  \n",
      "293      1   0     3       0  \n",
      "294      0   0     1       0  \n",
      "295      2   2     3       0  \n",
      "296      1   0     2       0  \n",
      "297      1   2     1       0  \n",
      "298      1   0     3       0  \n",
      "299      1   0     3       0  \n",
      "300      1   2     3       0  \n",
      "301      1   1     3       0  \n",
      "302      1   1     2       0  \n",
      "\n",
      "[303 rows x 14 columns]\n"
     ]
    }
   ],
   "source": [
    "print(df)"
   ]
  },
  {
   "cell_type": "markdown",
   "metadata": {},
   "source": [
    "برای نشان دادن جدول روی نمودار به صورت زیر عمل میکنیم "
   ]
  },
  {
   "cell_type": "code",
   "execution_count": 5,
   "metadata": {},
   "outputs": [
    {
     "data": {
      "text/plain": [
       "<function matplotlib.pyplot.show(*args, **kw)>"
      ]
     },
     "execution_count": 5,
     "metadata": {},
     "output_type": "execute_result"
    },
    {
     "data": {
      "image/png": "[encoded data removed]",
      "text/plain": [
       "<Figure size 432x288 with 1 Axes>"
      ]
     },
     "metadata": {
      "needs_background": "light"
     },
     "output_type": "display_data"
    }
   ],
   "source": [
    "plt.plot(df)\n",
    "plt.show"
   ]
  },
  {
   "cell_type": "markdown",
   "metadata": {},
   "source": [
    "برای نشان دادن سابقه بیماری از تارگت مشخص میشود \n",
    "که برای رسم تارگت از دستور زیر استفاده میکنیم \n",
    "چون ستون تارگت برای مااهمیت دارد "
   ]
  },
  {
   "cell_type": "code",
   "execution_count": 6,
   "metadata": {},
   "outputs": [
    {
     "data": {
      "text/plain": [
       "1    165\n",
       "0    138\n",
       "Name: target, dtype: int64"
      ]
     },
     "execution_count": 6,
     "metadata": {},
     "output_type": "execute_result"
    }
   ],
   "source": [
    "df.target.value_counts()"
   ]
  },
  {
   "cell_type": "markdown",
   "metadata": {},
   "source": [
    "برای رسم نمودار از توابع مختلف استفاده میکنیم \n",
    "یکی از این توابع اس ان اس میباشد که به صورت خودکار نمودار عمودی برابر مقدار شمارنده ها قرار دارد  "
   ]
  },
  {
   "cell_type": "code",
   "execution_count": 7,
   "metadata": {},
   "outputs": [
    {
     "data": {
      "image/png": "[encoded data removed]",
      "text/plain": [
       "<Figure size 432x288 with 1 Axes>"
      ]
     },
     "metadata": {
      "needs_background": "light"
     },
     "output_type": "display_data"
    }
   ],
   "source": [
    "sns.countplot(x=\"target\", data=df, palette=\"bwr\")\n",
    "plt.show()"
   ]
  },
  {
   "cell_type": "code",
   "execution_count": 8,
   "metadata": {},
   "outputs": [
    {
     "name": "stdout",
     "output_type": "stream",
     "text": [
      "0      1\n",
      "1      1\n",
      "2      1\n",
      "3      1\n",
      "4      1\n",
      "5      1\n",
      "6      1\n",
      "7      1\n",
      "8      1\n",
      "9      1\n",
      "10     1\n",
      "11     1\n",
      "12     1\n",
      "13     1\n",
      "14     1\n",
      "15     1\n",
      "16     1\n",
      "17     1\n",
      "18     1\n",
      "19     1\n",
      "20     1\n",
      "21     1\n",
      "22     1\n",
      "23     1\n",
      "24     1\n",
      "25     1\n",
      "26     1\n",
      "27     1\n",
      "28     1\n",
      "29     1\n",
      "      ..\n",
      "273    0\n",
      "274    0\n",
      "275    0\n",
      "276    0\n",
      "277    0\n",
      "278    0\n",
      "279    0\n",
      "280    0\n",
      "281    0\n",
      "282    0\n",
      "283    0\n",
      "284    0\n",
      "285    0\n",
      "286    0\n",
      "287    0\n",
      "288    0\n",
      "289    0\n",
      "290    0\n",
      "291    0\n",
      "292    0\n",
      "293    0\n",
      "294    0\n",
      "295    0\n",
      "296    0\n",
      "297    0\n",
      "298    0\n",
      "299    0\n",
      "300    0\n",
      "301    0\n",
      "302    0\n",
      "Name: target, Length: 303, dtype: int64\n"
     ]
    }
   ],
   "source": [
    "print(df.target)"
   ]
  },
  {
   "cell_type": "markdown",
   "metadata": {},
   "source": [
    "برای نشان دادن سن با داشتن بیماری به صورت نمودار زیر نمایش داده میشود "
   ]
  },
  {
   "cell_type": "code",
   "execution_count": 9,
   "metadata": {},
   "outputs": [
    {
     "data": {
      "image/png": "[encoded data removed]",
      "text/plain": [
       "<Figure size 432x288 with 1 Axes>"
      ]
     },
     "metadata": {
      "needs_background": "light"
     },
     "output_type": "display_data"
    }
   ],
   "source": [
    "plt.scatter(x=df.age[df.target==1], y=df.thalach[(df.target==1)], c=\"red\")\n",
    "plt.scatter(x=df.age[df.target==0], y=df.thalach[(df.target==0)])\n",
    "plt.legend([\"Disease\", \"Not Disease\"])\n",
    "plt.xlabel(\"Age\")\n",
    "plt.ylabel(\"Maximum Heart Rate\")\n",
    "plt.show()"
   ]
  },
  {
   "cell_type": "code",
   "execution_count": 12,
   "metadata": {},
   "outputs": [],
   "source": [
    "y = df.target.values\n",
    "x_data = df.drop(['target'], axis = 1)"
   ]
  },
  {
   "attachments": {
    "7-8-2019%202-31-19%20PM.png": {
     "image/png": "[encoded data removed]"
    }
   },
   "cell_type": "markdown",
   "metadata": {},
   "source": [
    "![7-8-2019%202-31-19%20PM.png](attachment:7-8-2019%202-31-19%20PM.png)"
   ]
  },
  {
   "cell_type": "markdown",
   "metadata": {},
   "source": [
    "اول داده ها را نرمال میکنیم "
   ]
  },
  {
   "cell_type": "code",
   "execution_count": 13,
   "metadata": {},
   "outputs": [],
   "source": [
    "x = (x_data - np.min(x_data)) / (np.max(x_data) - np.min(x_data)).values"
   ]
  },
  {
   "cell_type": "code",
   "execution_count": 14,
   "metadata": {},
   "outputs": [
    {
     "name": "stdout",
     "output_type": "stream",
     "text": [
      "          age  sex        cp  trestbps      chol  fbs  restecg   thalach  \\\n",
      "0    0.708333  1.0  1.000000  0.481132  0.244292  1.0      0.0  0.603053   \n",
      "1    0.166667  1.0  0.666667  0.339623  0.283105  0.0      0.5  0.885496   \n",
      "2    0.250000  0.0  0.333333  0.339623  0.178082  0.0      0.0  0.770992   \n",
      "3    0.562500  1.0  0.333333  0.245283  0.251142  0.0      0.5  0.816794   \n",
      "4    0.583333  0.0  0.000000  0.245283  0.520548  0.0      0.5  0.702290   \n",
      "5    0.583333  1.0  0.000000  0.433962  0.150685  0.0      0.5  0.587786   \n",
      "6    0.562500  0.0  0.333333  0.433962  0.383562  0.0      0.0  0.625954   \n",
      "7    0.312500  1.0  0.333333  0.245283  0.312785  0.0      0.5  0.778626   \n",
      "8    0.479167  1.0  0.666667  0.735849  0.166667  1.0      0.5  0.694656   \n",
      "9    0.583333  1.0  0.666667  0.528302  0.095890  0.0      0.5  0.786260   \n",
      "10   0.520833  1.0  0.000000  0.433962  0.257991  0.0      0.5  0.679389   \n",
      "11   0.395833  0.0  0.666667  0.339623  0.340183  0.0      0.5  0.519084   \n",
      "12   0.416667  1.0  0.333333  0.339623  0.319635  0.0      0.5  0.763359   \n",
      "13   0.729167  1.0  1.000000  0.150943  0.194064  0.0      0.0  0.557252   \n",
      "14   0.604167  0.0  1.000000  0.528302  0.358447  1.0      0.0  0.694656   \n",
      "15   0.437500  0.0  0.666667  0.245283  0.212329  0.0      0.5  0.664122   \n",
      "16   0.604167  0.0  0.666667  0.245283  0.488584  0.0      0.5  0.770992   \n",
      "17   0.770833  0.0  1.000000  0.528302  0.228311  0.0      0.5  0.328244   \n",
      "18   0.291667  1.0  0.000000  0.528302  0.276256  0.0      0.5  0.763359   \n",
      "19   0.833333  0.0  1.000000  0.433962  0.257991  0.0      0.5  0.610687   \n",
      "20   0.625000  1.0  0.000000  0.386792  0.246575  0.0      0.5  0.687023   \n",
      "21   0.312500  1.0  0.666667  0.339623  0.244292  0.0      0.5  0.824427   \n",
      "22   0.270833  1.0  0.000000  0.433962  0.228311  0.0      0.5  0.816794   \n",
      "23   0.666667  1.0  0.666667  0.528302  0.267123  1.0      0.5  0.503817   \n",
      "24   0.229167  1.0  1.000000  0.433962  0.166667  0.0      0.5  0.816794   \n",
      "25   0.875000  0.0  0.333333  0.622642  0.401826  0.0      0.5  0.694656   \n",
      "26   0.625000  1.0  0.666667  0.528302  0.196347  1.0      0.5  0.656489   \n",
      "27   0.458333  1.0  0.666667  0.150943  0.111872  0.0      0.5  0.396947   \n",
      "28   0.750000  0.0  0.666667  0.433962  0.664384  1.0      0.0  0.656489   \n",
      "29   0.500000  1.0  0.666667  0.339623  0.162100  1.0      0.0  0.618321   \n",
      "..        ...  ...       ...       ...       ...  ...      ...       ...   \n",
      "273  0.604167  1.0  0.000000  0.056604  0.246575  0.0      0.5  0.648855   \n",
      "274  0.375000  1.0  0.000000  0.150943  0.340183  0.0      0.0  0.358779   \n",
      "275  0.479167  1.0  0.000000  0.292453  0.196347  0.0      0.5  0.740458   \n",
      "276  0.604167  1.0  0.000000  0.490566  0.210046  0.0      0.5  0.259542   \n",
      "277  0.583333  1.0  0.333333  0.283019  0.308219  0.0      0.5  0.534351   \n",
      "278  0.604167  0.0  0.333333  0.396226  0.440639  1.0      0.0  0.618321   \n",
      "279  0.666667  1.0  0.000000  0.415094  0.091324  0.0      0.0  0.412214   \n",
      "280  0.270833  1.0  0.000000  0.396226  0.431507  0.0      0.5  0.412214   \n",
      "281  0.479167  1.0  0.000000  0.320755  0.178082  1.0      0.5  0.648855   \n",
      "282  0.625000  1.0  0.666667  0.301887  0.210046  1.0      0.5  0.480916   \n",
      "283  0.229167  1.0  0.000000  0.547170  0.221461  0.0      0.5  0.839695   \n",
      "284  0.666667  1.0  0.000000  0.433962  0.184932  0.0      0.0  0.511450   \n",
      "285  0.354167  1.0  0.000000  0.433962  0.422374  0.0      0.5  0.374046   \n",
      "286  0.625000  1.0  1.000000  0.377358  0.178082  0.0      0.5  0.694656   \n",
      "287  0.583333  1.0  0.333333  0.566038  0.242009  0.0      0.0  0.709924   \n",
      "288  0.583333  1.0  0.000000  0.150943  0.477169  0.0      0.5  0.549618   \n",
      "289  0.541667  0.0  0.000000  0.320755  0.180365  0.0      1.0  0.450382   \n",
      "290  0.666667  1.0  0.000000  0.509434  0.175799  0.0      0.5  0.687023   \n",
      "291  0.604167  1.0  0.000000  0.188679  0.438356  0.0      1.0  0.526718   \n",
      "292  0.604167  0.0  0.000000  0.716981  0.226027  1.0      0.0  0.572519   \n",
      "293  0.791667  1.0  0.666667  0.547170  0.196347  0.0      0.0  0.603053   \n",
      "294  0.312500  1.0  0.000000  0.245283  0.098174  0.0      0.5  0.557252   \n",
      "295  0.708333  1.0  0.000000  0.433962  0.139269  0.0      0.0  0.557252   \n",
      "296  0.708333  0.0  0.000000  0.283019  0.162100  0.0      0.5  0.496183   \n",
      "297  0.625000  1.0  0.000000  0.660377  0.114155  1.0      0.0  0.145038   \n",
      "298  0.583333  0.0  0.000000  0.433962  0.262557  0.0      0.5  0.396947   \n",
      "299  0.333333  1.0  1.000000  0.150943  0.315068  0.0      0.5  0.465649   \n",
      "300  0.812500  1.0  0.000000  0.471698  0.152968  1.0      0.5  0.534351   \n",
      "301  0.583333  1.0  0.000000  0.339623  0.011416  0.0      0.5  0.335878   \n",
      "302  0.583333  0.0  0.333333  0.339623  0.251142  0.0      0.0  0.786260   \n",
      "\n",
      "     exang   oldpeak  slope    ca      thal  \n",
      "0      0.0  0.370968    0.0  0.00  0.333333  \n",
      "1      0.0  0.564516    0.0  0.00  0.666667  \n",
      "2      0.0  0.225806    1.0  0.00  0.666667  \n",
      "3      0.0  0.129032    1.0  0.00  0.666667  \n",
      "4      1.0  0.096774    1.0  0.00  0.666667  \n",
      "5      0.0  0.064516    0.5  0.00  0.333333  \n",
      "6      0.0  0.209677    0.5  0.00  0.666667  \n",
      "7      0.0  0.000000    1.0  0.00  1.000000  \n",
      "8      0.0  0.080645    1.0  0.00  1.000000  \n",
      "9      0.0  0.258065    1.0  0.00  0.666667  \n",
      "10     0.0  0.193548    1.0  0.00  0.666667  \n",
      "11     0.0  0.032258    1.0  0.00  0.666667  \n",
      "12     0.0  0.096774    1.0  0.00  0.666667  \n",
      "13     1.0  0.290323    0.5  0.00  0.666667  \n",
      "14     0.0  0.161290    1.0  0.00  0.666667  \n",
      "15     0.0  0.258065    0.5  0.00  0.666667  \n",
      "16     0.0  0.000000    1.0  0.00  0.666667  \n",
      "17     0.0  0.419355    0.0  0.00  0.666667  \n",
      "18     0.0  0.241935    1.0  0.00  0.666667  \n",
      "19     0.0  0.290323    1.0  0.50  0.666667  \n",
      "20     0.0  0.080645    0.5  0.00  1.000000  \n",
      "21     1.0  0.064516    1.0  0.00  0.666667  \n",
      "22     0.0  0.000000    1.0  0.00  0.666667  \n",
      "23     1.0  0.161290    0.5  0.00  0.666667  \n",
      "24     1.0  0.225806    1.0  0.00  1.000000  \n",
      "25     0.0  0.064516    1.0  0.50  0.666667  \n",
      "26     0.0  0.258065    1.0  0.00  0.666667  \n",
      "27     0.0  0.096774    1.0  0.00  0.666667  \n",
      "28     0.0  0.129032    1.0  0.25  0.666667  \n",
      "29     0.0  0.193548    0.0  0.00  0.666667  \n",
      "..     ...       ...    ...   ...       ...  \n",
      "273    0.0  0.016129    1.0  0.25  1.000000  \n",
      "274    1.0  0.161290    0.5  0.25  0.666667  \n",
      "275    0.0  0.161290    1.0  0.50  1.000000  \n",
      "276    0.0  0.322581    0.5  0.25  1.000000  \n",
      "277    0.0  0.048387    1.0  0.00  1.000000  \n",
      "278    0.0  0.000000    1.0  0.50  0.666667  \n",
      "279    1.0  0.580645    0.5  0.25  0.666667  \n",
      "280    1.0  0.290323    0.5  0.00  0.333333  \n",
      "281    1.0  0.161290    0.5  0.00  0.000000  \n",
      "282    0.0  0.354839    0.5  0.25  0.333333  \n",
      "283    0.0  0.000000    1.0  0.00  1.000000  \n",
      "284    1.0  0.306452    1.0  0.25  1.000000  \n",
      "285    1.0  0.290323    0.5  0.50  1.000000  \n",
      "286    0.0  0.129032    1.0  0.50  0.666667  \n",
      "287    0.0  0.000000    1.0  0.25  0.666667  \n",
      "288    1.0  0.483871    0.5  0.25  1.000000  \n",
      "289    1.0  0.322581    0.5  0.25  1.000000  \n",
      "290    0.0  0.000000    1.0  0.25  1.000000  \n",
      "291    0.0  0.709677    0.0  0.75  0.333333  \n",
      "292    1.0  0.451613    0.5  0.50  0.333333  \n",
      "293    0.0  0.129032    0.5  0.00  1.000000  \n",
      "294    1.0  0.451613    0.0  0.00  0.333333  \n",
      "295    1.0  0.645161    1.0  0.50  1.000000  \n",
      "296    1.0  0.000000    0.5  0.00  0.666667  \n",
      "297    0.0  0.161290    0.5  0.50  0.333333  \n",
      "298    1.0  0.032258    0.5  0.00  1.000000  \n",
      "299    0.0  0.193548    0.5  0.00  1.000000  \n",
      "300    0.0  0.548387    0.5  0.50  1.000000  \n",
      "301    1.0  0.193548    0.5  0.25  1.000000  \n",
      "302    0.0  0.000000    0.5  0.25  0.666667  \n",
      "\n",
      "[303 rows x 13 columns]\n"
     ]
    }
   ],
   "source": [
    "print(x)"
   ]
  },
  {
   "cell_type": "markdown",
   "metadata": {},
   "source": [
    "We will split our data. 80% of our data will be train data and 20% of it will be test data."
   ]
  },
  {
   "cell_type": "code",
   "execution_count": 15,
   "metadata": {},
   "outputs": [],
   "source": [
    "y = df.target.values\n",
    "x_data = df.drop(['target'], axis = 1)\n",
    "x_train, x_test, y_train, y_test = train_test_split(x,y,test_size = 0.2,random_state=0)\n"
   ]
  },
  {
   "cell_type": "code",
   "execution_count": 16,
   "metadata": {},
   "outputs": [],
   "source": [
    "x_train = x_train.T\n",
    "y_train = y_train.T\n",
    "x_test = x_test.T\n",
    "y_test = y_test.T"
   ]
  },
  {
   "cell_type": "markdown",
   "metadata": {},
   "source": [
    "برای انجام دادن پردیکشن ما نیاز به یک وزن داریم پس :\n",
    "Let's say weight = 0.01 and bias = 0.0"
   ]
  },
  {
   "cell_type": "code",
   "execution_count": 17,
   "metadata": {},
   "outputs": [],
   "source": [
    "def initialize(dimension):\n",
    "    \n",
    "    weight = np.full((dimension,1),0.01)\n",
    "    bias = 0.0\n",
    "    return weight,bias"
   ]
  },
  {
   "cell_type": "code",
   "execution_count": 18,
   "metadata": {},
   "outputs": [],
   "source": [
    "def sigmoid(z):\n",
    "    \n",
    "    y_head = 1/(1+ np.exp(-z))\n",
    "    return y_head"
   ]
  },
  {
   "cell_type": "code",
   "execution_count": 19,
   "metadata": {},
   "outputs": [],
   "source": [
    "def update(weight,bias,x_train,y_train,learningRate,iteration) :\n",
    "    costList = []\n",
    "    index = []\n",
    "\n",
    "    for i in range(iteration):\n",
    "        cost,gradients = forwardBackward(weight,bias,x_train,y_train)\n",
    "        weight = weight - learningRate * gradients[\"Derivative Weight\"]\n",
    "        bias = bias - learningRate * gradients[\"Derivative Bias\"]\n",
    "        \n",
    "        costList.append(cost)\n",
    "        index.append(i)\n",
    "\n",
    "    parameters = {\"weight\": weight,\"bias\": bias}\n",
    "    \n",
    "    print(\"iteration:\",iteration)\n",
    "    print(\"cost:\",cost)\n",
    "\n",
    "    plt.plot(index,costList)\n",
    "    plt.xlabel(\"Number of Iteration\")\n",
    "    plt.ylabel(\"Cost\")\n",
    "    plt.show()\n",
    "\n",
    "    return parameters, gradients"
   ]
  },
  {
   "cell_type": "code",
   "execution_count": 20,
   "metadata": {},
   "outputs": [],
   "source": [
    "def forwardBackward(weight,bias,x_train,y_train):\n",
    "    # Forward\n",
    "    \n",
    "    y_head = sigmoid(np.dot(weight.T,x_train) + bias)\n",
    "    loss = -(y_train*np.log(y_head) + (1-y_train)*np.log(1-y_head))\n",
    "    cost = np.sum(loss) / x_train.shape[1]\n",
    "    \n",
    "    # Backward\n",
    "    derivative_weight = np.dot(x_train,((y_head-y_train).T))/x_train.shape[1]\n",
    "    derivative_bias = np.sum(y_head-y_train)/x_train.shape[1]\n",
    "    gradients = {\"Derivative Weight\" : derivative_weight, \"Derivative Bias\" : derivative_bias}\n",
    "    \n",
    "    return cost,gradients"
   ]
  },
  {
   "cell_type": "code",
   "execution_count": 21,
   "metadata": {},
   "outputs": [],
   "source": [
    "def predict(weight,bias,x_test):\n",
    "    z = np.dot(weight.T,x_test) + bias\n",
    "    y_head = sigmoid(z)\n",
    "\n",
    "    y_prediction = np.zeros((1,x_test.shape[1]))\n",
    "    \n",
    "    for i in range(y_head.shape[1]):\n",
    "        if y_head[0,i] <= 0.5:\n",
    "            y_prediction[0,i] = 0\n",
    "        else:\n",
    "            y_prediction[0,i] = 1\n",
    "    return y_prediction"
   ]
  },
  {
   "cell_type": "code",
   "execution_count": 22,
   "metadata": {},
   "outputs": [],
   "source": [
    "def logistic_regression(x_train,y_train,x_test,y_test,learningRate,iteration):\n",
    "    dimension = x_train.shape[0]\n",
    "    weight,bias = initialize(dimension)\n",
    "    \n",
    "    parameters, gradients = update(weight,bias,x_train,y_train,learningRate,iteration)\n",
    "\n",
    "    y_prediction = predict(parameters[\"weight\"],parameters[\"bias\"],x_test)\n",
    "    \n",
    "\n",
    "    print(\"Manuel Test Accuracy: {:.2f}%\".format((100 - np.mean(np.abs(y_prediction - y_test))*100)/100*100))"
   ]
  },
  {
   "cell_type": "code",
   "execution_count": 23,
   "metadata": {},
   "outputs": [
    {
     "name": "stdout",
     "output_type": "stream",
     "text": [
      "iteration: 100\n",
      "cost: 0.37966533849933537\n"
     ]
    },
    {
     "data": {
      "image/png": "[encoded data removed]",
      "text/plain": [
       "<Figure size 432x288 with 1 Axes>"
      ]
     },
     "metadata": {
      "needs_background": "light"
     },
     "output_type": "display_data"
    },
    {
     "name": "stdout",
     "output_type": "stream",
     "text": [
      "Manuel Test Accuracy: 81.97%\n"
     ]
    }
   ],
   "source": [
    "logistic_regression(x_train,y_train,x_test,y_test,1,100)"
   ]
  },
  {
   "cell_type": "markdown",
   "metadata": {},
   "source": [
    "knn value"
   ]
  },
  {
   "cell_type": "code",
   "execution_count": 24,
   "metadata": {},
   "outputs": [
    {
     "name": "stdout",
     "output_type": "stream",
     "text": [
      "2 NN Score: 83.61%\n"
     ]
    }
   ],
   "source": [
    "from sklearn.neighbors import KNeighborsClassifier\n",
    "knn = KNeighborsClassifier(n_neighbors = 2)  # n_neighbors means k\n",
    "knn.fit(x_train.T, y_train.T)\n",
    "prediction = knn.predict(x_test.T)\n",
    "\n",
    "print(\"{} NN Score: {:.2f}%\".format(2, knn.score(x_test.T, y_test.T)*100))"
   ]
  },
  {
   "cell_type": "code",
   "execution_count": 25,
   "metadata": {},
   "outputs": [
    {
     "data": {
      "image/png": "[encoded data removed]",
      "text/plain": [
       "<Figure size 432x288 with 1 Axes>"
      ]
     },
     "metadata": {
      "needs_background": "light"
     },
     "output_type": "display_data"
    }
   ],
   "source": [
    "plt.plot(prediction)\n",
    "plt.show()"
   ]
  },
  {
   "cell_type": "code",
   "execution_count": null,
   "metadata": {},
   "outputs": [],
   "source": []
  }
 ],
 "metadata": {
  "kernelspec": {
   "display_name": "Python 3",
   "language": "python",
   "name": "python3"
  },
  "language_info": {
   "codemirror_mode": {
    "name": "ipython",
    "version": 3
   },
   "file_extension": ".py",
   "mimetype": "text/x-python",
   "name": "python",
   "nbconvert_exporter": "python",
   "pygments_lexer": "ipython3",
   "version": "3.7.1"
  }
 },
 "nbformat": 4,
 "nbformat_minor": 2
}
